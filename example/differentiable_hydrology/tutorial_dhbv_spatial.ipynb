{
 "cells": [
  {
   "cell_type": "markdown",
   "metadata": {},
   "source": [
    "*WIP*\n",
    "\n",
    "Setup for\n",
    "PUB and PUR tests:\n",
    "\n",
    "init config and models\n",
    "name a spatial mode in config (this requires actual support for spatial training in the trainer?)\n",
    "run the training\n",
    "run the testing\n",
    "\n",
    "evaluate with some sort of visual."
   ]
  },
  {
   "cell_type": "code",
   "execution_count": null,
   "metadata": {},
   "outputs": [],
   "source": []
  }
 ],
 "metadata": {
  "language_info": {
   "name": "python"
  }
 },
 "nbformat": 4,
 "nbformat_minor": 2
}
