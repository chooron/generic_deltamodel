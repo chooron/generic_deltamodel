{
 "cells": [
  {
   "cell_type": "markdown",
   "metadata": {
    "vscode": {
     "languageId": "plaintext"
    }
   },
   "source": [
    "# *DeltaModel* Tutorial: **LSTM**\n",
    "Last Revision: 2 Dec. 2024\n",
    "\n",
    "---\n",
    "\n",
    "## 1. Creating a Model\n",
    "For this example, we demonstrate how to setup an minimal LSTM example with DeltaModel."
   ]
  },
  {
   "cell_type": "code",
   "execution_count": 1,
   "metadata": {},
   "outputs": [
    {
     "name": "stderr",
     "output_type": "stream",
     "text": [
      "/data/lgl5139/project_blue_eyes/generic_diffModel/example/lstm/../../deltaModel/models/neural_networks/lstm_models.py:103: UserWarning: RNN module weights are not part of single contiguous chunk of memory. This means they need to be compacted at every call, possibly greatly increasing memory usage. To compact weights again call flatten_parameters(). (Triggered internally at /opt/conda/conda-bld/pytorch_1729647348947/work/aten/src/ATen/native/cudnn/RNN.cpp:1410.)\n",
      "  output, hy, cy, reserve, new_weight_buf = torch._cudnn_rnn(\n"
     ]
    },
    {
     "name": "stdout",
     "output_type": "stream",
     "text": [
      "Streamflow predictions for 365 days and 100 basins: Showing the first 5 days for 5 basins \n",
      " tensor([[[0.1483],\n",
      "         [0.1575],\n",
      "         [0.1102]],\n",
      "\n",
      "        [[0.1430],\n",
      "         [0.1498],\n",
      "         [0.1036]],\n",
      "\n",
      "        [[0.1369],\n",
      "         [0.1416],\n",
      "         [0.0968]]], device='cuda:0', grad_fn=<SliceBackward0>)\n"
     ]
    }
   ],
   "source": [
    "import sys\n",
    "sys.path.append('../../')\n",
    "sys.path.append('../../deltaModel')  # Add the root directory of deltaModel\n",
    "\n",
    "from example import load_config \n",
    "from deltaModel.models.neural_networks import CudnnLstmModel as LSTM\n",
    "from deltaModel.models.neural_networks import init_nn_model\n",
    "from deltaModel.core.data.dataset_loading import get_dataset_dict\n",
    "from deltaModel.models.differentiable_model import DeltaModel as dHBV\n",
    "from deltaModel.core.data import take_sample\n",
    "\n",
    "\n",
    "CONFIG_PATH = '../example/conf/config_lstm.yaml'\n",
    "\n",
    "\n",
    "# 1. Load configuration dictionary of model parameters and options.\n",
    "config = load_config(CONFIG_PATH)\n",
    "device = config['device']\n",
    "\n",
    "# 2. Setup a dataset dict of NN model inputs.\n",
    "# Take a sample to reduce size on GPU.\n",
    "dataset = get_dataset_dict(config, train=True)\n",
    "dataset_sample = take_sample(config, dataset, days=730, basins=100)\n",
    "\n",
    "nx = dataset_sample['x'].shape[-1]\n",
    "ny = dataset_sample['target'].shape[-1]\n",
    "hidden_size = config['nn_model']['hidden_size']\n",
    "dr = config['nn_model']['dr']\n",
    "\n",
    "\n",
    "# 3. Initialize an LSTM\n",
    "lstm = LSTM(\n",
    "    nx=nx,\n",
    "    ny=ny,\n",
    "    hiddenSize=hidden_size,\n",
    "    dr=dr\n",
    ")\n",
    "\n",
    "## From here, forward or train the lstm just as any torch.nn.Module model.\n",
    "\n",
    "# 5. For example, to forward:\n",
    "output = lstm.forward(dataset_sample)\n",
    "\n",
    "\n",
    "print(f\"Streamflow predictions for {output['flow_sim'].shape[0]} days and {output['flow_sim'].shape[1]} basins: Showing the first 5 days for 5 basins \\n {output['flow_sim'][:3,:3]}\")  # TODO: Add a visualization here."
   ]
  },
  {
   "cell_type": "markdown",
   "metadata": {},
   "source": [
    "---\n",
    "\n",
    "## 2. Training a Model\n",
    "\n",
    "*Training Demo will be added in a coming update.*"
   ]
  },
  {
   "cell_type": "code",
   "execution_count": null,
   "metadata": {},
   "outputs": [],
   "source": []
  }
 ],
 "metadata": {
  "kernelspec": {
   "display_name": "hydrodl",
   "language": "python",
   "name": "python3"
  },
  "language_info": {
   "codemirror_mode": {
    "name": "ipython",
    "version": 3
   },
   "file_extension": ".py",
   "mimetype": "text/x-python",
   "name": "python",
   "nbconvert_exporter": "python",
   "pygments_lexer": "ipython3",
   "version": "3.11.10"
  }
 },
 "nbformat": 4,
 "nbformat_minor": 2
}
