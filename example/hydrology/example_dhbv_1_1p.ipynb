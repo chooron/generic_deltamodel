{
 "cells": [
  {
   "cell_type": "markdown",
   "metadata": {},
   "source": [
    "# Tutorial: **$\\delta$ HBV 1.1p**\n",
    "\n",
    "---\n",
    "\n",
    "This notebook demonstrates how to train and forward the $\\delta$ HBV 1.1p model developed by [Yalan Song et al. (2024)](https://essopenarchive.org/users/810569/articles/1213791-improving-physics-informed-differentiable-hydrologic-models-for-capturing-unseen-extreme-events?commit=9860e1a182de65bf97f387c3d7021868dcc52081). A pre-trained model is provided for those who only wish to run the forward. For explanation of model structure, methodologies, data, and performance metrics, please refer to Song's publication [below](#publication). If you find this code is useful in your own work, please include the aforementioned citation.\n",
    "\n",
    "<br>\n",
    "\n",
    "#### Before Running:\n",
    "- **Environment**: From `env/` a minimal Python environment can be setup for running this code... (see `docs/getting_started.md` for more details.)\n",
    "    - Conda -- `deltamodel_env.yaml`\n",
    "    - Pip -- `requirements.txt`\n",
    "\n",
    "\n",
    "- **Model**: The trained $\\delta$ HBV 1.1p model can be downloaded from [AWS](https://mhpi-spatial.s3.us-east-2.amazonaws.com/mhpi-release/models/dHBV_1_1p_trained.zip). After downloading...\n",
    "\n",
    "    - Update the `trained_model` key in model config `example/conf/config_dhbv_1_1p.yaml` with the path to you directory containing the trained model `dHBV_1_1p_Ep50.pt` (or *Ep100*) AND normalization file `statics_basinnorm.json`.\n",
    "\n",
    "- **Data**: The CAMELS data extraction used in model training and evaluation can be downloaded from [AWS](https://mhpi-spatial.s3.us-east-2.amazonaws.com/mhpi-release/camels/camels_data.zip). After downloading, in the data configs `example/conf/observations/camels_531.yaml` and `camels_671.yaml` update...\n",
    "    1. `train_path` key with your path to `training_file`,\n",
    "    2. `test_path` with your path to `valication file`,\n",
    "    3. `gage_info` with your path to `gage_ids.npy`,\n",
    "    4. (CAMELS 531 only) `subset_path` with your path to `531_subset.txt`.\n",
    "\n",
    "    \n",
    "### Publication:\n",
    "\n",
    "*Yalan Song, Kamlesh Sawadekar, Jonathan M Frame, Ming Pan, Martyn Clark, Wouter J M Knoben, Andrew W Wood, Trupesh Patel, Chaopeng Shen. 'Improving physics-informed, differentiable hydrologic models for capturing unseen extreme events.' ESS Open Archive (2024). https://doi.org/10.22541/essoar.172304428.82707157/v1.*\n",
    "\n",
    "---"
   ]
  },
  {
   "cell_type": "markdown",
   "metadata": {},
   "source": [
    "## 1.1 Train $\\delta$ HBV 1.1p\n",
    "\n",
    "After completing [these](#before-running) steps (model file not needed), train a $\\delta$ HBV 1.1p model with the code block below.\n",
    "\n",
    "--> For default settings with 50 training epochs, expect train times of ~8 hours with an Nvidia RTX 3090.\n",
    "\n",
    "**Note**\n",
    "- The settings defined in `../example/conf/config_dhbv_1_1p.yaml` are set to replecate benchmark performance.\n",
    "- For model training, set `mode: train` in `example/conf/config_dhbv_1_1p.yaml`, or modify after config dict has been created (see below).\n",
    "- An `example/results/` directory will be generated to store experiment and model files. This location can be adjusted by changing the `save_path` key in your config. \n",
    "- If you are new to the *dMG* framework and want explanation of the methods used below, we suggest first looking at our notebook for $\\delta$ HBV 1.0: `example/hydrology/example_dhbv_1_0.ipynb`.\n"
   ]
  },
  {
   "cell_type": "code",
   "execution_count": null,
   "metadata": {},
   "outputs": [],
   "source": [
    "import sys\n",
    "sys.path.append('../../')\n",
    "sys.path.append('../../deltaModel')  # Add the dMG root directory.\n",
    "\n",
    "from example import load_config \n",
    "from models.model_handler import ModelHandler as dHBV\n",
    "from core.utils import print_config\n",
    "from core.utils.module_loaders import get_data_loader, get_trainer\n",
    "\n",
    "\n",
    "\n",
    "# Define model settings here.\n",
    "CONFIG_PATH = '../example/conf/config_dhbv_1_1p.yaml'\n",
    "\n",
    "\n",
    "# 1. Load configuration dictionary of model parameters and options.\n",
    "config = load_config(CONFIG_PATH)\n",
    "config['mode'] = 'train'  # <-- Confirm that we are doing training if not set in the config file.\n",
    "print_config(config)\n",
    "\n",
    "# 2. Initialize the differentiable HBV 1.1p model (LSTM + HBV 1.1p).\n",
    "model = dHBV(config, verbose=True)\n",
    "\n",
    "# 3. Load and initialize a dataset dictionary of NN and HBV model inputs.\n",
    "data_loader = get_data_loader(config['data_loader'])\n",
    "data_loader = data_loader(config, test_split=True, overwrite=False)\n",
    "train_dataset = data_loader.train_dataset\n",
    "\n",
    "# 4. Initialize trainer to handle model training.\n",
    "trainer = get_trainer(config['trainer'])\n",
    "trainer = trainer(\n",
    "    config,\n",
    "    model,\n",
    "    train_dataset = train_dataset,\n",
    "    verbose=True,\n",
    ")\n",
    "\n",
    "# 5. Start model training.\n",
    "trainer.train()"
   ]
  },
  {
   "cell_type": "markdown",
   "metadata": {},
   "source": [
    "## 1.2 Evaluate Model Performance\n",
    "\n",
    "After completing the training in [1.1](#11-train--hbv-11p), or with the trained model provided, test $\\delta$ HBV 1.1p below on the evaluation data.\n",
    "\n",
    "--> For default settings expect evaluation time of ~5 minutes with an Nvidia RTX 3090.\n",
    "\n",
    "**Note**\n",
    "- For model evaluation, set `mode: test` in `example/conf/config_dhbv_1_1p.yaml`, or modify after config dict has been created (see below).\n",
    "- When evaluating provided models, confirm that `test: test_epoch` in the config corresponds to your desired model (50 or 100 epochs)."
   ]
  },
  {
   "cell_type": "code",
   "execution_count": 1,
   "metadata": {},
   "outputs": [
    {
     "name": "stdout",
     "output_type": "stream",
     "text": [
      "\n",
      "\u001b[1mCurrent Configuration\u001b[0m\n",
      "  Experiment Mode:    test                \n",
      "  Model 1:            HBV_1_1p            \n",
      "\n",
      "\u001b[1mData Loader\u001b[0m\n",
      "  Data Source:        camels_531          \n",
      "  Test Range :        1989/10/01          1999/09/30          \n",
      "\n",
      "\u001b[1mModel Parameters\u001b[0m\n",
      "  Train Epochs:       100                 Batch Size:         100                 \n",
      "  Dropout:            0.5                 Hidden Size:        256                 \n",
      "  Warmup:             365                 Concurrent Models:  16                  \n",
      "  Loss Fn:            NseLossBatch        \n",
      "\n",
      "\u001b[1mMachine\u001b[0m\n",
      "  Use Device:         cuda:1              \n",
      "\n"
     ]
    },
    {
     "ename": "KeyboardInterrupt",
     "evalue": "",
     "output_type": "error",
     "traceback": [
      "\u001b[0;31m---------------------------------------------------------------------------\u001b[0m",
      "\u001b[0;31mKeyboardInterrupt\u001b[0m                         Traceback (most recent call last)",
      "Cell \u001b[0;32mIn[1], line 26\u001b[0m\n\u001b[1;32m     24\u001b[0m \u001b[38;5;66;03m# 3. Load and initialize a dataset dictionary of NN and HBV model inputs.\u001b[39;00m\n\u001b[1;32m     25\u001b[0m data_loader \u001b[38;5;241m=\u001b[39m get_data_loader(config[\u001b[38;5;124m'\u001b[39m\u001b[38;5;124mdata_loader\u001b[39m\u001b[38;5;124m'\u001b[39m])\n\u001b[0;32m---> 26\u001b[0m data_loader \u001b[38;5;241m=\u001b[39m \u001b[43mdata_loader\u001b[49m\u001b[43m(\u001b[49m\u001b[43mconfig\u001b[49m\u001b[43m,\u001b[49m\u001b[43m \u001b[49m\u001b[43mtest_split\u001b[49m\u001b[38;5;241;43m=\u001b[39;49m\u001b[38;5;28;43;01mTrue\u001b[39;49;00m\u001b[43m,\u001b[49m\u001b[43m \u001b[49m\u001b[43moverwrite\u001b[49m\u001b[38;5;241;43m=\u001b[39;49m\u001b[38;5;28;43;01mFalse\u001b[39;49;00m\u001b[43m)\u001b[49m\n\u001b[1;32m     27\u001b[0m eval_dataset \u001b[38;5;241m=\u001b[39m data_loader\u001b[38;5;241m.\u001b[39meval_dataset\n\u001b[1;32m     29\u001b[0m \u001b[38;5;66;03m# 4. Initialize trainer to handle model evaluation.\u001b[39;00m\n",
      "File \u001b[0;32m/projects/mhpi/lglonz/project_silmaril/generic_deltaModel/deltaModel/core/data/data_loaders/loader_hydro.py:78\u001b[0m, in \u001b[0;36mHydroDataLoader.__init__\u001b[0;34m(self, config, test_split, overwrite)\u001b[0m\n\u001b[1;32m     75\u001b[0m \u001b[38;5;28;01mif\u001b[39;00m \u001b[38;5;28mself\u001b[39m\u001b[38;5;241m.\u001b[39mdata_name \u001b[38;5;129;01mnot\u001b[39;00m \u001b[38;5;129;01min\u001b[39;00m \u001b[38;5;28mself\u001b[39m\u001b[38;5;241m.\u001b[39msupported_data:\n\u001b[1;32m     76\u001b[0m     \u001b[38;5;28;01mraise\u001b[39;00m \u001b[38;5;167;01mValueError\u001b[39;00m(\u001b[38;5;124mf\u001b[39m\u001b[38;5;124m\"\u001b[39m\u001b[38;5;124mData source \u001b[39m\u001b[38;5;124m'\u001b[39m\u001b[38;5;132;01m{\u001b[39;00m\u001b[38;5;28mself\u001b[39m\u001b[38;5;241m.\u001b[39mdata_name\u001b[38;5;132;01m}\u001b[39;00m\u001b[38;5;124m'\u001b[39m\u001b[38;5;124m not supported.\u001b[39m\u001b[38;5;124m\"\u001b[39m)\n\u001b[0;32m---> 78\u001b[0m \u001b[38;5;28;43mself\u001b[39;49m\u001b[38;5;241;43m.\u001b[39;49m\u001b[43mload_dataset\u001b[49m\u001b[43m(\u001b[49m\u001b[43m)\u001b[49m\n",
      "File \u001b[0;32m/projects/mhpi/lglonz/project_silmaril/generic_deltaModel/deltaModel/core/data/data_loaders/loader_hydro.py:83\u001b[0m, in \u001b[0;36mHydroDataLoader.load_dataset\u001b[0;34m(self)\u001b[0m\n\u001b[1;32m     81\u001b[0m \u001b[38;5;250m\u001b[39m\u001b[38;5;124;03m\"\"\"Load dataset into dictionary of nn and physics model input arrays.\"\"\"\u001b[39;00m    \n\u001b[1;32m     82\u001b[0m \u001b[38;5;28;01mif\u001b[39;00m \u001b[38;5;28mself\u001b[39m\u001b[38;5;241m.\u001b[39mtest_split:\n\u001b[0;32m---> 83\u001b[0m     \u001b[38;5;28mself\u001b[39m\u001b[38;5;241m.\u001b[39mtrain_dataset \u001b[38;5;241m=\u001b[39m \u001b[38;5;28;43mself\u001b[39;49m\u001b[38;5;241;43m.\u001b[39;49m\u001b[43m_preprocess_data\u001b[49m\u001b[43m(\u001b[49m\u001b[43mscope\u001b[49m\u001b[38;5;241;43m=\u001b[39;49m\u001b[38;5;124;43m'\u001b[39;49m\u001b[38;5;124;43mtrain\u001b[39;49m\u001b[38;5;124;43m'\u001b[39;49m\u001b[43m)\u001b[49m\n\u001b[1;32m     84\u001b[0m     \u001b[38;5;28mself\u001b[39m\u001b[38;5;241m.\u001b[39meval_dataset \u001b[38;5;241m=\u001b[39m \u001b[38;5;28mself\u001b[39m\u001b[38;5;241m.\u001b[39m_preprocess_data(scope\u001b[38;5;241m=\u001b[39m\u001b[38;5;124m'\u001b[39m\u001b[38;5;124mtest\u001b[39m\u001b[38;5;124m'\u001b[39m)\n\u001b[1;32m     85\u001b[0m \u001b[38;5;28;01melse\u001b[39;00m:\n",
      "File \u001b[0;32m/projects/mhpi/lglonz/project_silmaril/generic_deltaModel/deltaModel/core/data/data_loaders/loader_hydro.py:90\u001b[0m, in \u001b[0;36mHydroDataLoader._preprocess_data\u001b[0;34m(self, scope)\u001b[0m\n\u001b[1;32m     88\u001b[0m \u001b[38;5;28;01mdef\u001b[39;00m\u001b[38;5;250m \u001b[39m\u001b[38;5;21m_preprocess_data\u001b[39m(\u001b[38;5;28mself\u001b[39m, scope: Optional[\u001b[38;5;28mstr\u001b[39m]) \u001b[38;5;241m-\u001b[39m\u001b[38;5;241m>\u001b[39m Tuple[npt\u001b[38;5;241m.\u001b[39mNDArray]:\n\u001b[1;32m     89\u001b[0m \u001b[38;5;250m    \u001b[39m\u001b[38;5;124;03m\"\"\"Read data from the dataset.\"\"\"\u001b[39;00m\n\u001b[0;32m---> 90\u001b[0m     x_phy, c_phy, x_nn, c_nn, target \u001b[38;5;241m=\u001b[39m \u001b[38;5;28;43mself\u001b[39;49m\u001b[38;5;241;43m.\u001b[39;49m\u001b[43mread_data\u001b[49m\u001b[43m(\u001b[49m\u001b[43mscope\u001b[49m\u001b[43m)\u001b[49m\n\u001b[1;32m     92\u001b[0m     \u001b[38;5;66;03m# Normalize nn input data\u001b[39;00m\n\u001b[1;32m     93\u001b[0m     \u001b[38;5;28mself\u001b[39m\u001b[38;5;241m.\u001b[39mload_norm_stats(x_nn, c_nn, target)\n",
      "File \u001b[0;32m/projects/mhpi/lglonz/project_silmaril/generic_deltaModel/deltaModel/core/data/data_loaders/loader_hydro.py:126\u001b[0m, in \u001b[0;36mHydroDataLoader.read_data\u001b[0;34m(self, scope)\u001b[0m\n\u001b[1;32m    124\u001b[0m \u001b[38;5;66;03m# Load data\u001b[39;00m\n\u001b[1;32m    125\u001b[0m \u001b[38;5;28;01mwith\u001b[39;00m \u001b[38;5;28mopen\u001b[39m(data_path, \u001b[38;5;124m'\u001b[39m\u001b[38;5;124mrb\u001b[39m\u001b[38;5;124m'\u001b[39m) \u001b[38;5;28;01mas\u001b[39;00m f:\n\u001b[0;32m--> 126\u001b[0m     forcings, target, attributes \u001b[38;5;241m=\u001b[39m \u001b[43mpickle\u001b[49m\u001b[38;5;241;43m.\u001b[39;49m\u001b[43mload\u001b[49m\u001b[43m(\u001b[49m\u001b[43mf\u001b[49m\u001b[43m)\u001b[49m\n\u001b[1;32m    128\u001b[0m \u001b[38;5;66;03m# Get time indicies\u001b[39;00m\n\u001b[1;32m    129\u001b[0m all_time \u001b[38;5;241m=\u001b[39m pd\u001b[38;5;241m.\u001b[39mdate_range(\n\u001b[1;32m    130\u001b[0m     \u001b[38;5;28mself\u001b[39m\u001b[38;5;241m.\u001b[39mconfig[\u001b[38;5;124m'\u001b[39m\u001b[38;5;124mall_time\u001b[39m\u001b[38;5;124m'\u001b[39m][\u001b[38;5;241m0\u001b[39m],\n\u001b[1;32m    131\u001b[0m     \u001b[38;5;28mself\u001b[39m\u001b[38;5;241m.\u001b[39mconfig[\u001b[38;5;124m'\u001b[39m\u001b[38;5;124mall_time\u001b[39m\u001b[38;5;124m'\u001b[39m][\u001b[38;5;241m-\u001b[39m\u001b[38;5;241m1\u001b[39m], \n\u001b[1;32m    132\u001b[0m     freq\u001b[38;5;241m=\u001b[39m\u001b[38;5;124m'\u001b[39m\u001b[38;5;124md\u001b[39m\u001b[38;5;124m'\u001b[39m,\n\u001b[1;32m    133\u001b[0m )\n",
      "\u001b[0;31mKeyboardInterrupt\u001b[0m: "
     ]
    }
   ],
   "source": [
    "import sys\n",
    "sys.path.append('../../')\n",
    "sys.path.append('../../deltaModel')  # Add the dMG root directory.\n",
    "\n",
    "from example import load_config \n",
    "from models.model_handler import ModelHandler as dHBV\n",
    "from core.utils import print_config\n",
    "from core.utils.module_loaders import get_data_loader, get_trainer\n",
    "\n",
    "\n",
    "\n",
    "# Define model settings here.\n",
    "CONFIG_PATH = '../example/conf/config_dhbv_1_1p.yaml'\n",
    "\n",
    "\n",
    "# 1. Load configuration dictionary of model parameters and options.\n",
    "config = load_config(CONFIG_PATH)\n",
    "config['mode'] = 'test'  # <-- Confirm that we are doing testing if not set in the config file.\n",
    "print_config(config)\n",
    "\n",
    "# 2. Initialize the differentiable HBV 1.1p model (LSTM + HBV 1.1p).\n",
    "model = dHBV(config, verbose=True)\n",
    "\n",
    "# 3. Load and initialize a dataset dictionary of NN and HBV model inputs.\n",
    "data_loader = get_data_loader(config['data_loader'])\n",
    "data_loader = data_loader(config, test_split=True, overwrite=False)\n",
    "eval_dataset = data_loader.eval_dataset\n",
    "\n",
    "# 4. Initialize trainer to handle model evaluation.\n",
    "trainer = get_trainer(config['trainer'])\n",
    "trainer = trainer(\n",
    "    config,\n",
    "    model,\n",
    "    eval_dataset = eval_dataset,\n",
    "    verbose=True,\n",
    ")\n",
    "\n",
    "# 5. Start testing the model.\n",
    "print('Evaluating model...')\n",
    "trainer.evaluate()"
   ]
  },
  {
   "cell_type": "markdown",
   "metadata": {},
   "source": [
    "### Visualizing Trained Model Performance\n",
    "\n",
    "After running evaluation on the model, a new directory (e.g., for a model trained for 50 epochs and tested from years 1989-1999), `test1989-1999_Ep50/` will be created in the same directory containing the model files. This path will be populated with...\n",
    "\n",
    "1. All model outputs (fluxes, states), including the target variable, *streamflow* (`flow_sim.npy`),\n",
    "\n",
    "2. `flow_sim_obs`, streamflow observation data for comparison against model predictions,\n",
    "\n",
    "2. `metrics.json`, containing evaluation metrics accross the test time range for every gage in the dataset,\n",
    "\n",
    "3. `metrics_agg.json`, containing evaluation metrics statistics across all gages (mean, median, standar deviation).\n",
    "\n",
    "\n",
    "We can use these outputs to visualize $\\delta$ HBV 1.1p's performance with a \n",
    "1. Cumulative distribution function (CDF) plot, \n",
    "\n",
    "2. CONUS map of gage locations and metric (e.g., NSE) performance.\n",
    "\n",
    "<br>\n",
    "\n",
    "But first, let's first check the (basin-)aggregated metrics for NSE, KGE, bias, RMSE, and, for both high/low flow regimes, RMSE and absolute percent bias..."
   ]
  },
  {
   "cell_type": "code",
   "execution_count": 2,
   "metadata": {},
   "outputs": [
    {
     "name": "stdout",
     "output_type": "stream",
     "text": [
      "Evaluation output files saved to: ../results/camels_531/train1999-2008/no_multi/LSTM_E100_R365_B100_H256_n16_noLn_noWU_111111/HBV_1_1p/NseLossBatch/3dyn/parBETA_parK0_parBETAET/test1989-1999_Ep50 \n",
      "\n",
      "Median of Metrics (Prec: 3 digits):\n",
      "----------------------------------------\n",
      "Nse: 0.742\n",
      "Kge: 0.739\n",
      "Bias: 0.520\n",
      "Rmse: 1.246\n",
      "Rmse_low: 0.064\n",
      "Rmse_high: 3.540\n",
      "Flv_abs: 45.509\n",
      "Fhv_abs: 17.723\n",
      "----------------------------------------\n"
     ]
    }
   ],
   "source": [
    "import os\n",
    "\n",
    "from core.post import print_metrics\n",
    "from core.data import load_json\n",
    "\n",
    "\n",
    "print(f\"Evaluation output files saved to: {config['out_path']} \\n\")\n",
    "\n",
    "\n",
    "# 1. Load the basin-aggregated evaluation results.\n",
    "metrics_path = os.path.join(config['out_path'], 'metrics_agg.json')\n",
    "metrics = load_json(metrics_path)\n",
    "\n",
    "# 2. Print the evaluation results.\n",
    "metric_names =  [\n",
    "    # Choose metrics to show.\n",
    "    'nse', 'kge', 'bias', 'rmse', 'rmse_low', 'rmse_high', 'flv_abs', 'fhv_abs',\n",
    "]\n",
    "print_metrics(metrics, metric_names, mode='median', precision=3)"
   ]
  },
  {
   "cell_type": "markdown",
   "metadata": {},
   "source": [
    "### Generate the CDF\n"
   ]
  },
  {
   "cell_type": "code",
   "execution_count": 4,
   "metadata": {},
   "outputs": [
    {
     "data": {
      "image/png": "[encoded data removed]",
      "text/plain": [
       "<Figure size 800x600 with 1 Axes>"
      ]
     },
     "metadata": {},
     "output_type": "display_data"
    }
   ],
   "source": [
    "### Plot CDF of the evaluation results.\n",
    "from core.post.plot_cdf import plot_cdf\n",
    "\n",
    "\n",
    "# 1. Load the evaluation metrics.\n",
    "metrics_path = os.path.join(config['out_path'], 'metrics.json')\n",
    "metrics = load_json(metrics_path)\n",
    "\n",
    "# 2. Plot the CDF for NSE.\n",
    "plot_cdf(\n",
    "    metrics=[metrics],\n",
    "    metric_names=['nse'],\n",
    "    model_labels=['dHBV 1.1p'],\n",
    "    title=\"CDF of NSE for $\\delta$HBV 1.1p\",\n",
    "    xlabel='NSE',\n",
    "    figsize=(8, 6),\n",
    "    xbounds=(0, 1),\n",
    "    ybounds=(0, 1),\n",
    "    show_arrow=True\n",
    ")"
   ]
  },
  {
   "cell_type": "code",
   "execution_count": 26,
   "metadata": {},
   "outputs": [],
   "source": [
    "### Plot the evaluation results spatially.\n",
    "import geopandas as gpd\n",
    "\n",
    "\n",
    "# Set the path to the shapefile containing the basin loacations.\n",
    "shapefile_path = '/projects/mhpi/lglonz/project_silmaril/generic_deltaModel/example/hydrology/camels_671_loc.shp' # 'your/path/to/camels_671_loc.shp'  # <-- Change this to the path of the shapefile.\n",
    "gage_id_path = '/projects/mhpi/lglonz/data/extracted/gageid.npy'  # 'your/path/to/gageid.npy'  # <-- Change this to the path of the gage ID file.\n",
    "gage_id_531_path = '/projects/mhpi/lglonz/data/extracted/Sub531ID.txt'  # 'your/path/to/Sub531ID.txt'  # <-- Change this to the path of the Sub531 ID file.\n",
    "\n",
    "\n",
    "# 1. Load the evaluation metrics.\n",
    "metrics_path = os.path.join(config['out_path'], 'metrics.json')\n",
    "metrics = load_json(metrics_path)\n",
    "\n",
    "# 2. Load basin shapefile containing geocoordinates (lat, long) for every gage.\n",
    "coords = gpd.read_file(shapefile_path)\n",
    "\n",
    "\n"
   ]
  },
  {
   "cell_type": "code",
   "execution_count": 29,
   "metadata": {},
   "outputs": [],
   "source": [
    "import numpy as np\n",
    "\n",
    "gage_ids = np.load(gage_id_path, allow_pickle=True)\n",
    "\n",
    "# Read file, clean brackets, and split into integers\n",
    "with open(gage_id_531_path, 'r') as f:\n",
    "    lines = f.read().strip()  # Remove extra whitespace\n",
    "    lines = lines.replace(\"[\", \"\").replace(\"]\", \"\")  # Remove brackets\n",
    "gage_ids_531 = np.array([int(x) for x in lines.split(\",\")])\n"
   ]
  },
  {
   "cell_type": "code",
   "execution_count": null,
   "metadata": {},
   "outputs": [],
   "source": [
    "def txt_to_gageid(txt_path: str):\n",
    "    with open(txt_path, 'r') as f:\n",
    "        lines = f.read().strip()  # Remove extra whitespace\n",
    "        lines = lines.replace(\"[\", \"\").replace(\"]\", \"\")  # Remove brackets\n",
    "    return np.array([int(x) for x in lines.split(\",\")])"
   ]
  },
  {
   "cell_type": "code",
   "execution_count": null,
   "metadata": {},
   "outputs": [],
   "source": []
  },
  {
   "cell_type": "code",
   "execution_count": null,
   "metadata": {},
   "outputs": [],
   "source": []
  },
  {
   "cell_type": "markdown",
   "metadata": {},
   "source": [
    "## 2. Forward $\\delta$ HBV 1.1p\n",
    "\n",
    "After completing [these](#before-running) steps, forward the $\\delta$ HBV 1.1p model with the code block below.\n",
    "\n",
    "Note:\n",
    "- The settings defined in `../example/conf/config_dhbv_2_0.yaml` are set to replecate benchmark performance.\n",
    "- If you are new to the *dMG* framework and want more explanation and exposure of the methods used below, we suggest first looking at our notebook for $\\delta$ HBV 1.0: `example/hydrology/tutorial_dhbv.ipynb`."
   ]
  },
  {
   "cell_type": "code",
   "execution_count": null,
   "metadata": {},
   "outputs": [],
   "source": [
    "import sys\n",
    "sys.path.append('../../')\n",
    "sys.path.append('../../deltaModel')  # Add the dMG root directory.\n",
    "\n",
    "from example import load_config \n",
    "from hydroDL2.models.hbv.hbv import HBV as hbv\n",
    "from deltaModel.models.neural_networks import init_nn_model\n",
    "from models.model_handler import ModelHandler as dHBV\n",
    "from core.data.data_loaders.loader_hydro import HydroDataLoader\n",
    "from core.data.data_samplers.sampler_hydro import take_sample\n",
    "from core.utils import print_config\n",
    "from core.utils.module_loaders import get_data_loader, get_trainer\n",
    "\n",
    "\n",
    "\n",
    "# Define model settings here.\n",
    "CONFIG_PATH = '../example/conf/config_dhbv_2_0.yaml'\n",
    "\n",
    "\n",
    "# 1. Load configuration dictionary of model parameters and options.\n",
    "config = load_config(CONFIG_PATH)\n",
    "print_config(config)\n",
    "\n",
    "# 2. Setup a dataset dictionary of NN and physics model inputs.\n",
    "data_loader = get_data_loader(config['data_loader'])\n",
    "data_loader = data_loader(config, test_split=True, overwrite=False)\n",
    "\n",
    "# 3. Initialize the differentiable model dHBV 2.0 (LSTM + HBV 2.0).\n",
    "model = dHBV(config, verbose=True)\n",
    "\n",
    "# 4. Initialize trainer to handle forward pass.\n",
    "trainer = get_trainer(config['trainer'])\n",
    "trainer = trainer(\n",
    "    config,\n",
    "    model,\n",
    "    eval_dataset = data_loader.eval_dataset,\n",
    "    verbose=True,\n",
    ")\n",
    "\n",
    "# 5. Forward pass through the model to get streamflow predictions.\n",
    "predictions = trainer.forward()"
   ]
  },
  {
   "cell_type": "markdown",
   "metadata": {},
   "source": [
    "## 2. Visualize the Predictions\n",
    "\n",
    "We plot a hydrograph of the resulting predictions below, streamflow on a hydrograph for instance."
   ]
  },
  {
   "cell_type": "code",
   "execution_count": null,
   "metadata": {},
   "outputs": [],
   "source": [
    "# TODO: Include hydrograph plot here."
   ]
  }
 ],
 "metadata": {
  "kernelspec": {
   "display_name": "hydrodl",
   "language": "python",
   "name": "python3"
  },
  "language_info": {
   "codemirror_mode": {
    "name": "ipython",
    "version": 3
   },
   "file_extension": ".py",
   "mimetype": "text/x-python",
   "name": "python",
   "nbconvert_exporter": "python",
   "pygments_lexer": "ipython3",
   "version": "3.11.5"
  }
 },
 "nbformat": 4,
 "nbformat_minor": 2
}
