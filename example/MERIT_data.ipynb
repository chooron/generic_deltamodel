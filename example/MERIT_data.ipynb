{
 "cells": [
  {
   "cell_type": "code",
   "execution_count": 102,
   "metadata": {},
   "outputs": [],
   "source": [
    "import zarr\n",
    "import json\n",
    "root = zarr.open_group(\"/projects/mhpi/yxs275/model/generic_deltaModel_dhbv2.0/data/71_0\", mode = 'r+')\n",
    "COMID = root['COMID'][:]\n",
    "attrs_group = root['attrs']\n",
    "with open('/projects/mhpi/yxs275/tools/extrect_merit_in_basin/'+'area_all_merit_info.json') as f:\n",
    "    area_all_merit_info = json.load(f)\n",
    "\n",
    "# uparea_zone = [area_all_merit_info[str(int(x))]['uparea'][0] for x in COMID]\n",
    "# attrs_group.create_dataset('uparea', data=uparea_zone, dtype='f8')  \n"
   ]
  },
  {
   "cell_type": "code",
   "execution_count": 103,
   "metadata": {},
   "outputs": [
    {
     "data": {
      "text/plain": [
       "array([[0.        , 3.14222217, 0.        , ..., 0.        , 0.        ,\n",
       "               nan],\n",
       "       [0.        , 3.03034472, 0.        , ..., 0.        , 0.        ,\n",
       "               nan],\n",
       "       [0.        , 0.        , 0.        , ..., 0.00759259, 1.45037031,\n",
       "               nan],\n",
       "       ...,\n",
       "       [0.        , 0.        , 0.        , ..., 4.50545502, 1.72424245,\n",
       "               nan],\n",
       "       [0.        , 0.        , 0.        , ..., 4.6765008 , 0.50550002,\n",
       "               nan],\n",
       "       [0.        , 0.        , 4.32250023, ..., 0.        , 0.        ,\n",
       "               nan]])"
      ]
     },
     "execution_count": 103,
     "metadata": {},
     "output_type": "execute_result"
    }
   ],
   "source": [
    "root['P'][:]\n"
   ]
  },
  {
   "cell_type": "code",
   "execution_count": 120,
   "metadata": {},
   "outputs": [],
   "source": [
    "root = zarr.open_group(\"/projects/mhpi/yxs275/DM_output/dPL_local_daymet_new_attr_water_loss_v6_1v18_1_multiGPU_debug/71_0\", mode = 'r+')\n",
    "\n"
   ]
  },
  {
   "cell_type": "code",
   "execution_count": 121,
   "metadata": {},
   "outputs": [],
   "source": [
    "flow_sim = root['Qr'][:]"
   ]
  },
  {
   "cell_type": "code",
   "execution_count": 122,
   "metadata": {},
   "outputs": [],
   "source": [
    "import numpy as np\n",
    "flow_new = np.load('/projects/mhpi/yxs275/model/generic_deltaModel_dhbv2.0/savedModel/HBV2.0/test1980_2020/flow_sim.npy')[:,:,0]\n",
    "flow_new = np.swapaxes(flow_new, 1, 0) "
   ]
  },
  {
   "cell_type": "code",
   "execution_count": 123,
   "metadata": {},
   "outputs": [
    {
     "data": {
      "text/plain": [
       "0.0"
      ]
     },
     "execution_count": 123,
     "metadata": {},
     "output_type": "execute_result"
    }
   ],
   "source": [
    "np.max(flow_new-flow_sim)\n"
   ]
  },
  {
   "cell_type": "code",
   "execution_count": 112,
   "metadata": {},
   "outputs": [],
   "source": [
    "hbv_para_org = np.load('/projects/mhpi/yxs275/model/generic_deltaModel_dhbv2.0/savedModel/HBV2.0/test1980_2020/zTest_org.npy')\n",
    "hbv_para = np.load('/projects/mhpi/yxs275/model/generic_deltaModel_dhbv2.0/savedModel/HBV2.0/test1980_2020/zTest.npy')"
   ]
  },
  {
   "cell_type": "code",
   "execution_count": 113,
   "metadata": {},
   "outputs": [
    {
     "data": {
      "text/plain": [
       "0.0"
      ]
     },
     "execution_count": 113,
     "metadata": {},
     "output_type": "execute_result"
    }
   ],
   "source": [
    "np.max(np.swapaxes(hbv_para, 1, 0)-hbv_para_org)"
   ]
  },
  {
   "cell_type": "code",
   "execution_count": 109,
   "metadata": {},
   "outputs": [
    {
     "data": {
      "text/plain": [
       "array([[0.        , 3.14222217, 0.        , ..., 0.        , 0.        ,\n",
       "        0.        ],\n",
       "       [0.        , 3.03034472, 0.        , ..., 0.        , 0.        ,\n",
       "        0.        ],\n",
       "       [0.        , 0.        , 0.        , ..., 0.00759259, 1.45037031,\n",
       "        1.45037031],\n",
       "       ...,\n",
       "       [0.        , 0.        , 0.        , ..., 4.50545502, 1.72424245,\n",
       "        1.72424245],\n",
       "       [0.        , 0.        , 0.        , ..., 4.6765008 , 0.50550002,\n",
       "        0.50550002],\n",
       "       [0.        , 0.        , 4.32250023, ..., 0.        , 0.        ,\n",
       "        0.        ]])"
      ]
     },
     "execution_count": 109,
     "metadata": {},
     "output_type": "execute_result"
    }
   ],
   "source": [
    "hbv_para_org[:,:,0]"
   ]
  }
 ],
 "metadata": {
  "kernelspec": {
   "display_name": "dpl_hbv",
   "language": "python",
   "name": "python3"
  },
  "language_info": {
   "codemirror_mode": {
    "name": "ipython",
    "version": 3
   },
   "file_extension": ".py",
   "mimetype": "text/x-python",
   "name": "python",
   "nbconvert_exporter": "python",
   "pygments_lexer": "ipython3",
   "version": "3.8.18"
  }
 },
 "nbformat": 4,
 "nbformat_minor": 2
}
