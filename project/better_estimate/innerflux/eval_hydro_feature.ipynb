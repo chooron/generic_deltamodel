{
 "cells": [
  {
   "cell_type": "markdown",
   "id": "32ddb6f4",
   "metadata": {},
   "source": [
    "# 评价xx模型预测结果的hydrological feature"
   ]
  },
  {
   "cell_type": "markdown",
   "id": "c202efa0",
   "metadata": {},
   "source": [
    "## 导入依赖"
   ]
  },
  {
   "cell_type": "code",
   "execution_count": 1,
   "id": "ff2f4c4c",
   "metadata": {},
   "outputs": [],
   "source": [
    "import json\n",
    "import os\n",
    "import sys\n",
    "import pickle\n",
    "\n",
    "import numpy as np\n",
    "import pandas as pd\n",
    "from dotenv import load_dotenv\n",
    "\n",
    "load_dotenv()\n",
    "sys.path.append(os.getenv(\"PROJ_PATH\")) # type: ignore\n",
    "\n",
    "from dmg.core.post.plot_baseflowindex_scatter import \\\n",
    "    plot_baseflow_scatter  # noqa\n",
    "from project.better_estimate import load_config  # noqa"
   ]
  },
  {
   "cell_type": "markdown",
   "id": "9c759431",
   "metadata": {},
   "source": [
    "## 导入配置"
   ]
  },
  {
   "cell_type": "code",
   "execution_count": 2,
   "id": "49154d27",
   "metadata": {},
   "outputs": [],
   "source": [
    "config = load_config(r\"conf/config_dhbv_lstm.yaml\")\n",
    "out_path = config[\"out_path\"]"
   ]
  },
  {
   "cell_type": "markdown",
   "id": "ae97003b",
   "metadata": {},
   "source": [
    "## 读取数据"
   ]
  },
  {
   "cell_type": "markdown",
   "id": "eae8494c",
   "metadata": {},
   "source": [
    "### 读取模型预测结果"
   ]
  },
  {
   "cell_type": "code",
   "execution_count": 3,
   "id": "4c0974f3",
   "metadata": {},
   "outputs": [],
   "source": [
    "predict_flow = np.load(\n",
    "    os.path.join(out_path, \"streamflow.npy\"), allow_pickle=True\n",
    ")"
   ]
  },
  {
   "cell_type": "markdown",
   "id": "4ebfa8d7",
   "metadata": {},
   "source": [
    "### 读取模型输入的降雨量"
   ]
  },
  {
   "cell_type": "code",
   "execution_count": 14,
   "id": "8b58bed5",
   "metadata": {},
   "outputs": [
    {
     "name": "stdout",
     "output_type": "stream",
     "text": [
      "Forcing data shape: [[  0.          11.56         2.054303  ]\n",
      " [  0.          12.92         2.045786  ]\n",
      " [  5.96        14.22         1.740576  ]\n",
      " [ 31.3         11.46         1.5446584 ]\n",
      " [  2.39         9.405        1.6123645 ]\n",
      " [  0.           9.495        1.2110019 ]\n",
      " [  7.06         8.525        1.1104783 ]\n",
      " [  0.           7.645        1.5073547 ]\n",
      " [  0.           9.595        1.6177741 ]\n",
      " [  0.           4.875        1.6237459 ]\n",
      " [ 15.2          5.38         1.6349796 ]\n",
      " [ 23.36         9.795        1.4814948 ]\n",
      " [  0.           7.09         1.5865564 ]\n",
      " [  0.           4.59         1.0986187 ]\n",
      " [  0.           1.855        1.150855  ]\n",
      " [  0.           2.675        1.3247793 ]\n",
      " [  0.           5.42         1.4407805 ]\n",
      " [  6.01         8.275        1.6205635 ]\n",
      " [  9.          12.405        1.2903825 ]\n",
      " [  0.           9.89         1.4560266 ]\n",
      " [  0.           5.085        1.418569  ]\n",
      " [  0.           5.01         1.1887254 ]\n",
      " [  0.           3.28         1.1515857 ]\n",
      " [  0.           2.905        1.0811164 ]\n",
      " [  0.           3.735        1.3336928 ]\n",
      " [ 34.19         6.82         1.2492968 ]\n",
      " [  0.           5.18         1.098162  ]\n",
      " [  0.           3.505        0.8189505 ]\n",
      " [  0.           1.565        0.8760967 ]\n",
      " [  0.           2.085        0.9043276 ]\n",
      " [  0.           3.545        1.11279   ]\n",
      " [  0.           4.425        0.9947958 ]\n",
      " [  0.           2.74         0.95557076]\n",
      " [  0.          -0.61         0.8357866 ]\n",
      " [  0.           3.015        1.0393972 ]\n",
      " [  5.88         8.445        0.9822945 ]\n",
      " [  0.           2.42         1.0643394 ]\n",
      " [  0.           3.07         0.8793293 ]\n",
      " [  8.53         6.59         0.9765558 ]\n",
      " [  2.13         0.46         0.91639525]\n",
      " [  5.41         1.37         0.7377842 ]\n",
      " [  8.57         1.905        0.5800725 ]\n",
      " [  0.65         2.395        0.6396217 ]\n",
      " [  0.           2.31         0.7153026 ]\n",
      " [  4.56         1.685        0.6916863 ]\n",
      " [  0.          -0.48         0.60747546]\n",
      " [  0.          -2.195        0.62246305]\n",
      " [  0.          -1.79         0.5350814 ]\n",
      " [ 11.69         0.07         0.5517011 ]\n",
      " [ 15.22        -2.005        0.36143184]\n",
      " [  0.          -4.49         0.5298303 ]\n",
      " [  0.          -2.715        0.57765734]\n",
      " [ 13.45         0.78         0.6133891 ]\n",
      " [  0.          -0.08         0.6364724 ]\n",
      " [  0.           1.915        0.6968129 ]\n",
      " [ 18.99         4.835        0.5785099 ]\n",
      " [ 16.82         2.44         0.6453931 ]\n",
      " [  0.          -2.195        0.45463917]\n",
      " [  5.56        -1.22         0.5361403 ]\n",
      " [ 36.49         2.55         0.7125091 ]\n",
      " [  0.           2.15         0.55211586]\n",
      " [  0.           0.79         0.5482609 ]\n",
      " [  0.           2.055        0.68951046]\n",
      " [ 14.41         3.84         0.73483014]\n",
      " [  5.9         -2.72         0.5928239 ]\n",
      " [  3.34        -6.365        0.25549427]\n",
      " [  0.          -4.4          0.383444  ]\n",
      " [  0.          -2.01         0.42259127]\n",
      " [  0.          -2.655        0.5047334 ]\n",
      " [  5.           1.745        0.6521849 ]\n",
      " [  1.86        -4.025        0.45865592]\n",
      " [  0.          -7.815        0.35088843]\n",
      " [  0.         -14.145        0.1295178 ]\n",
      " [  5.97        -7.55         0.3919162 ]\n",
      " [  0.          -9.61         0.34276643]\n",
      " [  0.         -14.14         0.14125669]\n",
      " [  8.37       -13.705        0.13904677]\n",
      " [  9.99        -8.43         0.28634518]\n",
      " [  0.         -13.505        0.18077622]\n",
      " [  6.62        -8.04         0.33425868]\n",
      " [  0.         -15.355        0.10661274]\n",
      " [  0.         -18.12         0.        ]\n",
      " [  0.         -18.56         0.        ]\n",
      " [  2.93       -13.805        0.161857  ]\n",
      " [  2.43        -6.23         0.35525462]\n",
      " [  1.15       -13.495        0.20783529]\n",
      " [  0.         -22.24         0.        ]\n",
      " [  1.55       -14.51         0.11341695]\n",
      " [  0.         -12.29         0.23658708]\n",
      " [  0.          -2.5          0.50145394]\n",
      " [  6.68        -0.18         0.4927123 ]\n",
      " [  3.34        -1.335        0.50516355]\n",
      " [  0.         -16.135        0.05825733]\n",
      " [  4.39       -11.28         0.25448695]\n",
      " [  8.98       -14.645        0.1493397 ]\n",
      " [  0.         -23.84         0.        ]\n",
      " [  0.         -21.305        0.        ]\n",
      " [  0.         -15.675        0.08917966]\n",
      " [  9.79        -6.32         0.49507752]\n",
      " [  9.35        -7.695        0.47355533]]\n"
     ]
    }
   ],
   "source": [
    "from dmg.core.data.loaders import HydroLoader  # noqa\n",
    "\n",
    "loader = HydroLoader(config, test_split=True, overwrite=False) # type: ignore\n",
    "loader.load_dataset()\n",
    "eval_dataset = loader.eval_dataset\n",
    "\n",
    "# forcing_data = eval_dataset['x_phy'].detach().cpu().numpy()[365:5110+365, :, :]\n",
    "forcing_data = eval_dataset['x_phy'].detach().cpu().numpy()[:, :, :]\n",
    "print(\"Forcing data shape:\", forcing_data[0:100,0,:])\n",
    "sum_prcp = forcing_data[:, :, 0].sum(axis=0)  # 累计降雨量"
   ]
  },
  {
   "cell_type": "markdown",
   "id": "1939415b",
   "metadata": {},
   "source": [
    "## 计算预测结果的水文特征"
   ]
  },
  {
   "cell_type": "markdown",
   "id": "8c583124",
   "metadata": {},
   "source": [
    "### 计算预测结果平均值"
   ]
  },
  {
   "cell_type": "code",
   "execution_count": 5,
   "id": "7b9e5fbc",
   "metadata": {},
   "outputs": [],
   "source": [
    "predict_qmean = np.mean(predict_flow, axis=0)"
   ]
  },
  {
   "cell_type": "markdown",
   "id": "b9b32508",
   "metadata": {},
   "source": [
    "### 计算runoff ratio"
   ]
  },
  {
   "cell_type": "code",
   "execution_count": 6,
   "id": "6545a13e",
   "metadata": {},
   "outputs": [
    {
     "name": "stdout",
     "output_type": "stream",
     "text": [
      "Sum precipitation sample: (531,)\n"
     ]
    }
   ],
   "source": [
    "print(\"Sum precipitation sample:\", sum_prcp.shape)\n",
    "runoff_ratio_lstm = predict_qmean / sum_prcp"
   ]
  },
  {
   "cell_type": "markdown",
   "id": "88ae5164",
   "metadata": {},
   "source": [
    "### 计算Slope FDC"
   ]
  },
  {
   "cell_type": "code",
   "execution_count": 10,
   "id": "98e123e8",
   "metadata": {},
   "outputs": [
    {
     "name": "stdout",
     "output_type": "stream",
     "text": [
      "Slope FDC sample: (531,)\n"
     ]
    }
   ],
   "source": [
    "q33_obs = np.quantile(predict_flow, 0.67, axis=0) # 结果 shape: (N,)\n",
    "q66_obs = np.quantile(predict_flow, 0.34, axis=0) # 结果 shape: (N,)\n",
    "\n",
    "slope_fdc_sim = ((np.log(q33_obs) - np.log(q66_obs)) / (0.66 - 0.33))[:,0]\n",
    "print(\"Slope FDC sample:\", slope_fdc_sim.shape)"
   ]
  }
 ],
 "metadata": {
  "kernelspec": {
   "display_name": "generic_deltamodel",
   "language": "python",
   "name": "python3"
  },
  "language_info": {
   "codemirror_mode": {
    "name": "ipython",
    "version": 3
   },
   "file_extension": ".py",
   "mimetype": "text/x-python",
   "name": "python",
   "nbconvert_exporter": "python",
   "pygments_lexer": "ipython3",
   "version": "3.11.13"
  }
 },
 "nbformat": 4,
 "nbformat_minor": 5
}
