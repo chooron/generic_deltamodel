{
 "cells": [
  {
   "cell_type": "markdown",
   "id": "3d4b2778",
   "metadata": {},
   "source": [
    "# 把dPL模型中其他变量打印出来"
   ]
  },
  {
   "cell_type": "markdown",
   "id": "dcf76aa8",
   "metadata": {},
   "source": [
    "## 导入依赖"
   ]
  },
  {
   "cell_type": "code",
   "execution_count": 97,
   "id": "1f119db9",
   "metadata": {},
   "outputs": [],
   "source": [
    "import os\n",
    "import sys\n",
    "import json\n",
    "import numpy as np\n",
    "import pandas as pd\n",
    "import matplotlib.pyplot as plt\n",
    "from dotenv import load_dotenv\n",
    "from datetime import datetime, timedelta\n",
    "\n",
    "load_dotenv()\n",
    "sys.path.append(os.getenv(\"PROJ_PATH\"))  # type: ignore\n",
    "\n",
    "from project.better_estimate import load_config  # noqa"
   ]
  },
  {
   "cell_type": "markdown",
   "id": "a6732d31",
   "metadata": {},
   "source": [
    "## 设置模型配置"
   ]
  },
  {
   "cell_type": "code",
   "execution_count": 98,
   "id": "757018f2",
   "metadata": {},
   "outputs": [],
   "source": [
    "config = load_config(r\"conf/config_dhbv_lstm.yaml\")\n",
    "out_path = config[\"out_path\"]"
   ]
  },
  {
   "cell_type": "markdown",
   "id": "b12c27f9",
   "metadata": {},
   "source": [
    "## 加载数据"
   ]
  },
  {
   "cell_type": "code",
   "execution_count": 99,
   "id": "7753ffde",
   "metadata": {},
   "outputs": [],
   "source": [
    "inner_evap = np.load(os.path.join(out_path, \"AET_hydro.npy\"))\n",
    "inner_soilwater = np.load(os.path.join(out_path, \"soilwater.npy\"))\n",
    "inner_swe = np.load(os.path.join(out_path, \"SWE.npy\"))\n",
    "select_basins = json.load(open(os.path.join(os.getenv(\"DATA_PATH\"), \"531sub_id.txt\"), 'r'))"
   ]
  },
  {
   "cell_type": "markdown",
   "id": "7ca4e37d",
   "metadata": {},
   "source": [
    "## 加载ERA5L的数据"
   ]
  },
  {
   "cell_type": "code",
   "execution_count": 100,
   "id": "134c459a",
   "metadata": {},
   "outputs": [],
   "source": [
    "era5l_evap_df = pd.read_csv(\n",
    "    os.path.join(\n",
    "        os.getenv(\"DATA_PATH\"),\n",
    "        \"era5l_data\",\n",
    "        \"output_e_mm_1995-2010_monthly.csv\",\n",
    "    ),\n",
    "    parse_dates=[\"time\"],\n",
    "    index_col=\"time\",\n",
    ")\n",
    "era5l_soilwater_df = pd.read_csv(\n",
    "    os.path.join(\n",
    "        os.getenv(\"DATA_PATH\"),\n",
    "        \"era5l_data\",\n",
    "        \"output_soilwater_mm_1995-2010_monthly.csv\",\n",
    "    ),\n",
    "    parse_dates=[\"time\"],\n",
    "    index_col=\"time\",\n",
    ")\n",
    "era5l_swe_df = pd.read_csv(\n",
    "    os.path.join(\n",
    "        os.getenv(\"DATA_PATH\"),\n",
    "        \"era5l_data\",\n",
    "        \"output_sd_mm_1995-2010_monthly.csv\",\n",
    "    ),\n",
    "    parse_dates=[\"time\"],\n",
    "    index_col=\"time\",\n",
    ")\n",
    "era5l_cols = era5l_evap_df.columns[:]"
   ]
  },
  {
   "cell_type": "markdown",
   "id": "31d36b6e",
   "metadata": {},
   "source": [
    "## 将数据转换为月尺度"
   ]
  },
  {
   "cell_type": "code",
   "execution_count": 101,
   "id": "13f81b5d",
   "metadata": {},
   "outputs": [],
   "source": [
    "start_date = datetime(1995, 10, 1) + timedelta(days=365)\n",
    "date_range = pd.date_range(\n",
    "    start=start_date, periods=inner_evap.shape[0], freq=\"D\"\n",
    ")\n",
    "inner_evap_df = pd.DataFrame(\n",
    "    data=inner_evap.squeeze(),\n",
    "    index=date_range,\n",
    "    columns=select_basins,\n",
    ").resample('MS').mean()\n",
    "inner_soilwater_df = pd.DataFrame(\n",
    "    data=inner_soilwater.squeeze(),\n",
    "    index=date_range,\n",
    "    columns=select_basins,\n",
    ").resample('MS').mean()\n",
    "inner_swe_df = pd.DataFrame(\n",
    "    data=inner_swe.squeeze(),\n",
    "    index=date_range,\n",
    "    columns=select_basins,\n",
    ").resample('MS').mean()"
   ]
  },
  {
   "cell_type": "markdown",
   "id": "f010c5e8",
   "metadata": {},
   "source": [
    "## 计算相关性"
   ]
  },
  {
   "cell_type": "code",
   "execution_count": 102,
   "id": "b19ee8f5",
   "metadata": {},
   "outputs": [
    {
     "name": "stderr",
     "output_type": "stream",
     "text": [
      "e:\\PaperCode\\dpl-project\\generic_deltamodel\\.venv\\Lib\\site-packages\\numpy\\lib\\_function_base_impl.py:3065: RuntimeWarning: invalid value encountered in divide\n",
      "  c /= stddev[:, None]\n",
      "e:\\PaperCode\\dpl-project\\generic_deltamodel\\.venv\\Lib\\site-packages\\numpy\\lib\\_function_base_impl.py:3066: RuntimeWarning: invalid value encountered in divide\n",
      "  c /= stddev[None, :]\n",
      "e:\\PaperCode\\dpl-project\\generic_deltamodel\\.venv\\Lib\\site-packages\\numpy\\lib\\_function_base_impl.py:3065: RuntimeWarning: invalid value encountered in divide\n",
      "  c /= stddev[:, None]\n",
      "e:\\PaperCode\\dpl-project\\generic_deltamodel\\.venv\\Lib\\site-packages\\numpy\\lib\\_function_base_impl.py:3066: RuntimeWarning: invalid value encountered in divide\n",
      "  c /= stddev[None, :]\n",
      "e:\\PaperCode\\dpl-project\\generic_deltamodel\\.venv\\Lib\\site-packages\\numpy\\lib\\_function_base_impl.py:3065: RuntimeWarning: invalid value encountered in divide\n",
      "  c /= stddev[:, None]\n",
      "e:\\PaperCode\\dpl-project\\generic_deltamodel\\.venv\\Lib\\site-packages\\numpy\\lib\\_function_base_impl.py:3066: RuntimeWarning: invalid value encountered in divide\n",
      "  c /= stddev[None, :]\n",
      "e:\\PaperCode\\dpl-project\\generic_deltamodel\\.venv\\Lib\\site-packages\\numpy\\lib\\_function_base_impl.py:3065: RuntimeWarning: invalid value encountered in divide\n",
      "  c /= stddev[:, None]\n",
      "e:\\PaperCode\\dpl-project\\generic_deltamodel\\.venv\\Lib\\site-packages\\numpy\\lib\\_function_base_impl.py:3066: RuntimeWarning: invalid value encountered in divide\n",
      "  c /= stddev[None, :]\n",
      "e:\\PaperCode\\dpl-project\\generic_deltamodel\\.venv\\Lib\\site-packages\\numpy\\lib\\_function_base_impl.py:3065: RuntimeWarning: invalid value encountered in divide\n",
      "  c /= stddev[:, None]\n",
      "e:\\PaperCode\\dpl-project\\generic_deltamodel\\.venv\\Lib\\site-packages\\numpy\\lib\\_function_base_impl.py:3066: RuntimeWarning: invalid value encountered in divide\n",
      "  c /= stddev[None, :]\n",
      "e:\\PaperCode\\dpl-project\\generic_deltamodel\\.venv\\Lib\\site-packages\\numpy\\lib\\_function_base_impl.py:3065: RuntimeWarning: invalid value encountered in divide\n",
      "  c /= stddev[:, None]\n",
      "e:\\PaperCode\\dpl-project\\generic_deltamodel\\.venv\\Lib\\site-packages\\numpy\\lib\\_function_base_impl.py:3066: RuntimeWarning: invalid value encountered in divide\n",
      "  c /= stddev[None, :]\n",
      "e:\\PaperCode\\dpl-project\\generic_deltamodel\\.venv\\Lib\\site-packages\\numpy\\lib\\_function_base_impl.py:3065: RuntimeWarning: invalid value encountered in divide\n",
      "  c /= stddev[:, None]\n",
      "e:\\PaperCode\\dpl-project\\generic_deltamodel\\.venv\\Lib\\site-packages\\numpy\\lib\\_function_base_impl.py:3066: RuntimeWarning: invalid value encountered in divide\n",
      "  c /= stddev[None, :]\n",
      "e:\\PaperCode\\dpl-project\\generic_deltamodel\\.venv\\Lib\\site-packages\\numpy\\lib\\_function_base_impl.py:3065: RuntimeWarning: invalid value encountered in divide\n",
      "  c /= stddev[:, None]\n",
      "e:\\PaperCode\\dpl-project\\generic_deltamodel\\.venv\\Lib\\site-packages\\numpy\\lib\\_function_base_impl.py:3066: RuntimeWarning: invalid value encountered in divide\n",
      "  c /= stddev[None, :]\n"
     ]
    }
   ],
   "source": [
    "evap_corr = []\n",
    "soilwater_corr = []\n",
    "swe_corr = []\n",
    "reference_index = inner_evap_df.index.to_list()\n",
    "for i in range(len(select_basins)):\n",
    "    basin_col_name = select_basins[i]\n",
    "    for df1, df2, corr in zip(\n",
    "        [inner_evap_df, inner_soilwater_df, inner_swe_df],\n",
    "        [era5l_evap_df, era5l_soilwater_df, era5l_swe_df],\n",
    "        [evap_corr, soilwater_corr, swe_corr],\n",
    "    ):\n",
    "        data_1 = df1.loc[:, basin_col_name].values\n",
    "        data_2 = df2.loc[reference_index, str(basin_col_name)].values\n",
    "        correlation_matrix = np.corrcoef(data_1, data_2)\n",
    "        correlation_value = correlation_matrix[0, 1]\n",
    "        corr.append(correlation_value)\n"
   ]
  },
  {
   "cell_type": "code",
   "execution_count": 103,
   "id": "9a208dfd",
   "metadata": {},
   "outputs": [],
   "source": [
    "evap_corr = np.array(evap_corr)\n",
    "soilwater_corr = np.array(soilwater_corr)\n",
    "swe_corr = np.array(swe_corr)\n",
    "evap_corr = evap_corr[~np.isnan(evap_corr)]\n",
    "soilwater_corr = soilwater_corr[~np.isnan(soilwater_corr)]\n",
    "swe_corr = swe_corr[~np.isnan(swe_corr)]"
   ]
  },
  {
   "cell_type": "code",
   "execution_count": 104,
   "id": "1a9e579b",
   "metadata": {},
   "outputs": [
    {
     "name": "stderr",
     "output_type": "stream",
     "text": [
      "C:\\Users\\OMEN\\AppData\\Local\\Temp\\ipykernel_10608\\1185180575.py:22: UserWarning: Glyph 25968 (\\N{CJK UNIFIED IDEOGRAPH-6570}) missing from font(s) DejaVu Sans.\n",
      "  plt.tight_layout()\n",
      "C:\\Users\\OMEN\\AppData\\Local\\Temp\\ipykernel_10608\\1185180575.py:22: UserWarning: Glyph 20540 (\\N{CJK UNIFIED IDEOGRAPH-503C}) missing from font(s) DejaVu Sans.\n",
      "  plt.tight_layout()\n",
      "C:\\Users\\OMEN\\AppData\\Local\\Temp\\ipykernel_10608\\1185180575.py:22: UserWarning: Glyph 30340 (\\N{CJK UNIFIED IDEOGRAPH-7684}) missing from font(s) DejaVu Sans.\n",
      "  plt.tight_layout()\n",
      "C:\\Users\\OMEN\\AppData\\Local\\Temp\\ipykernel_10608\\1185180575.py:22: UserWarning: Glyph 31665 (\\N{CJK UNIFIED IDEOGRAPH-7BB1}) missing from font(s) DejaVu Sans.\n",
      "  plt.tight_layout()\n",
      "C:\\Users\\OMEN\\AppData\\Local\\Temp\\ipykernel_10608\\1185180575.py:22: UserWarning: Glyph 32447 (\\N{CJK UNIFIED IDEOGRAPH-7EBF}) missing from font(s) DejaVu Sans.\n",
      "  plt.tight_layout()\n",
      "C:\\Users\\OMEN\\AppData\\Local\\Temp\\ipykernel_10608\\1185180575.py:22: UserWarning: Glyph 22270 (\\N{CJK UNIFIED IDEOGRAPH-56FE}) missing from font(s) DejaVu Sans.\n",
      "  plt.tight_layout()\n",
      "e:\\PaperCode\\dpl-project\\generic_deltamodel\\.venv\\Lib\\site-packages\\IPython\\core\\pylabtools.py:170: UserWarning: Glyph 25968 (\\N{CJK UNIFIED IDEOGRAPH-6570}) missing from font(s) DejaVu Sans.\n",
      "  fig.canvas.print_figure(bytes_io, **kw)\n",
      "e:\\PaperCode\\dpl-project\\generic_deltamodel\\.venv\\Lib\\site-packages\\IPython\\core\\pylabtools.py:170: UserWarning: Glyph 20540 (\\N{CJK UNIFIED IDEOGRAPH-503C}) missing from font(s) DejaVu Sans.\n",
      "  fig.canvas.print_figure(bytes_io, **kw)\n",
      "e:\\PaperCode\\dpl-project\\generic_deltamodel\\.venv\\Lib\\site-packages\\IPython\\core\\pylabtools.py:170: UserWarning: Glyph 30340 (\\N{CJK UNIFIED IDEOGRAPH-7684}) missing from font(s) DejaVu Sans.\n",
      "  fig.canvas.print_figure(bytes_io, **kw)\n",
      "e:\\PaperCode\\dpl-project\\generic_deltamodel\\.venv\\Lib\\site-packages\\IPython\\core\\pylabtools.py:170: UserWarning: Glyph 31665 (\\N{CJK UNIFIED IDEOGRAPH-7BB1}) missing from font(s) DejaVu Sans.\n",
      "  fig.canvas.print_figure(bytes_io, **kw)\n",
      "e:\\PaperCode\\dpl-project\\generic_deltamodel\\.venv\\Lib\\site-packages\\IPython\\core\\pylabtools.py:170: UserWarning: Glyph 32447 (\\N{CJK UNIFIED IDEOGRAPH-7EBF}) missing from font(s) DejaVu Sans.\n",
      "  fig.canvas.print_figure(bytes_io, **kw)\n",
      "e:\\PaperCode\\dpl-project\\generic_deltamodel\\.venv\\Lib\\site-packages\\IPython\\core\\pylabtools.py:170: UserWarning: Glyph 22270 (\\N{CJK UNIFIED IDEOGRAPH-56FE}) missing from font(s) DejaVu Sans.\n",
      "  fig.canvas.print_figure(bytes_io, **kw)\n"
     ]
    },
    {
     "data": {
      "image/png": "[encoded data removed]",
      "text/plain": [
       "<Figure size 1500x500 with 3 Axes>"
      ]
     },
     "metadata": {},
     "output_type": "display_data"
    }
   ],
   "source": [
    "import matplotlib.pyplot as plt\n",
    "\n",
    "fig, axes = plt.subplots(nrows=1, ncols=3, figsize=(15, 5), sharey=True)\n",
    "\n",
    "# 子图1：绘制 list1\n",
    "axes[0].boxplot(evap_corr)\n",
    "axes[0].set_title('List 1 的箱线图')\n",
    "axes[0].set_xlabel('List 1')\n",
    "axes[0].set_ylabel('数值')\n",
    "\n",
    "# 子图2：绘制 list2\n",
    "axes[1].boxplot(soilwater_corr)\n",
    "axes[1].set_title('List 2 的箱线图')\n",
    "axes[1].set_xlabel('List 2')\n",
    "\n",
    "# 子图3：绘制 list3\n",
    "axes[2].boxplot(swe_corr)\n",
    "axes[2].set_title('List 3 的箱线图')\n",
    "axes[2].set_xlabel('List 3')\n",
    "\n",
    "# --- 4. 调整布局并显示 ---\n",
    "plt.tight_layout()\n",
    "plt.show()"
   ]
  }
 ],
 "metadata": {
  "kernelspec": {
   "display_name": "generic_deltamodel",
   "language": "python",
   "name": "python3"
  },
  "language_info": {
   "codemirror_mode": {
    "name": "ipython",
    "version": 3
   },
   "file_extension": ".py",
   "mimetype": "text/x-python",
   "name": "python",
   "nbconvert_exporter": "python",
   "pygments_lexer": "ipython3",
   "version": "3.11.13"
  }
 },
 "nbformat": 4,
 "nbformat_minor": 5
}
