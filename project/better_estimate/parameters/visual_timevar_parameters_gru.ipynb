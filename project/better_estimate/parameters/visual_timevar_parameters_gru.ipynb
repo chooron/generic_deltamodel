{
 "cells": [
  {
   "cell_type": "markdown",
   "id": "722b6f42",
   "metadata": {},
   "source": [
    "# 将模型预测的参数值可视化出来"
   ]
  },
  {
   "cell_type": "markdown",
   "id": "38048d2d",
   "metadata": {},
   "source": [
    "## 导入所有信息"
   ]
  },
  {
   "cell_type": "markdown",
   "id": "f919fd33",
   "metadata": {},
   "source": [
    "### 导入依赖"
   ]
  },
  {
   "cell_type": "code",
   "execution_count": null,
   "id": "417934d9",
   "metadata": {},
   "outputs": [],
   "source": [
    "import json\n",
    "import os\n",
    "import sys\n",
    "import pickle\n",
    "\n",
    "import numpy as np\n",
    "import pandas as pd\n",
    "import matplotlib.pyplot as plt\n",
    "from dotenv import load_dotenv\n",
    "\n",
    "load_dotenv()\n",
    "sys.path.append(os.getenv(\"PROJ_PATH\"))  # type: ignore\n",
    "\n",
    "from dmg.core.post.plot_parameters import plot_parameters  # noqa\n",
    "from project.better_estimate import load_config  # noqa"
   ]
  },
  {
   "cell_type": "markdown",
   "id": "035919d7",
   "metadata": {},
   "source": [
    "### 导入配置"
   ]
  },
  {
   "cell_type": "code",
   "execution_count": null,
   "id": "e2301d37",
   "metadata": {},
   "outputs": [],
   "source": [
    "config = load_config(r\"conf/config_dhbv_gru.yaml\")\n",
    "out_path = config[\"out_path\"]"
   ]
  },
  {
   "cell_type": "markdown",
   "id": "e8a28a96",
   "metadata": {},
   "source": [
    "### 加载数据"
   ]
  },
  {
   "cell_type": "code",
   "execution_count": null,
   "id": "90a9df20",
   "metadata": {},
   "outputs": [],
   "source": [
    "from dmg.core.data.loaders import HydroLoader   # noqa\n",
    "\n",
    "loader = HydroLoader(config, test_split=True, overwrite=False)\n",
    "loader.load_dataset()\n",
    "eval_dataset = loader.eval_dataset"
   ]
  },
  {
   "cell_type": "markdown",
   "id": "ae5ad99e",
   "metadata": {},
   "source": [
    "### 导入流域id"
   ]
  },
  {
   "cell_type": "code",
   "execution_count": null,
   "id": "71eb98b2",
   "metadata": {},
   "outputs": [],
   "source": [
    "with open(os.path.join(os.getenv(\"DATA_PATH\"), \"531sub_id.txt\"), \"r\") as f:\n",
    "    selected_basins = np.array(json.load(f))"
   ]
  },
  {
   "cell_type": "markdown",
   "id": "49964041",
   "metadata": {},
   "source": [
    "## 构建模型"
   ]
  },
  {
   "cell_type": "code",
   "execution_count": null,
   "id": "2d00978a",
   "metadata": {},
   "outputs": [],
   "source": [
    "from dmg import ModelHandler\n",
    "from dmg.core.utils import import_trainer  # noqa\n",
    "config['mode'] = 'test'\n",
    "config['test']['test_epoch'] = 100\n",
    "model = ModelHandler(config, verbose=True)\n",
    "trainer_cls = import_trainer(config['trainer'])\n",
    "trainer = trainer_cls(\n",
    "    config,\n",
    "    model,\n",
    "    eval_dataset=eval_dataset,\n",
    "    verbose=True,\n",
    ")\n",
    "lstm_model = trainer.model.model_dict['Hbv_2'].nn_model\n",
    "lstm_layer = lstm_model.gruinv\n",
    "fc_layer = lstm_model.fc"
   ]
  },
  {
   "cell_type": "markdown",
   "id": "40b52195",
   "metadata": {},
   "source": [
    "## 得到模型输出结果"
   ]
  },
  {
   "cell_type": "code",
   "execution_count": null,
   "id": "3bc6fcac",
   "metadata": {},
   "outputs": [],
   "source": [
    "import torch\n",
    "\n",
    "model_input = eval_dataset['xc_nn_norm']\n",
    "# select_basin_idx = np.where(selected_basins==8023080)[0][0]\n",
    "select_basin_idx = 0\n",
    "print(select_basin_idx)\n",
    "tmp_model_input = model_input[0:730, select_basin_idx:select_basin_idx+1, :]\n",
    "lstm_layer_output, _ = lstm_layer(tmp_model_input)\n",
    "fc_layer_output = fc_layer(lstm_layer_output)\n",
    "fc_layer_output = torch.sigmoid(fc_layer_output.reshape(-1, 3, 16))\n",
    "print(fc_layer_output.shape)"
   ]
  },
  {
   "cell_type": "code",
   "execution_count": null,
   "id": "3dd91105",
   "metadata": {},
   "outputs": [],
   "source": [
    "corr_matrix = np.corrcoef(fc_layer_output.detach().cpu().numpy()[:,0,:], rowvar=False)\n",
    "\n",
    "import seaborn as sns\n",
    "import matplotlib.pyplot as plt\n",
    "\n",
    "# 绘制相关性热图\n",
    "sns.heatmap(corr_matrix, cmap=\"coolwarm\", vmin=-1, vmax=1)\n",
    "plt.show()"
   ]
  },
  {
   "cell_type": "markdown",
   "id": "843ed8d6",
   "metadata": {},
   "source": [
    "## 绘制模型预测结果"
   ]
  },
  {
   "cell_type": "code",
   "execution_count": null,
   "id": "7ab09daa",
   "metadata": {},
   "outputs": [],
   "source": [
    "timevar_params = fc_layer_output.detach().cpu().numpy()\n",
    "titles = ['parBETA', 'parK0', 'parBETAET']\n",
    "plot_parameters(timevar_params, titles=titles, median_color='red')\n",
    "plt.show()"
   ]
  }
 ],
 "metadata": {
  "kernelspec": {
   "display_name": "generic_deltamodel",
   "language": "python",
   "name": "python3"
  },
  "language_info": {
   "codemirror_mode": {
    "name": "ipython",
    "version": 3
   },
   "file_extension": ".py",
   "mimetype": "text/x-python",
   "name": "python",
   "nbconvert_exporter": "python",
   "pygments_lexer": "ipython3",
   "version": "3.11.13"
  }
 },
 "nbformat": 4,
 "nbformat_minor": 5
}
