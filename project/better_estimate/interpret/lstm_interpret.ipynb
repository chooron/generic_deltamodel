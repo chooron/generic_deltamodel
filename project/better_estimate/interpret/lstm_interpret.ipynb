{
 "cells": [
  {
   "cell_type": "markdown",
   "id": "975577c6",
   "metadata": {},
   "source": [
    "# 针对LSTM预测结果进行可解释性分析"
   ]
  },
  {
   "cell_type": "markdown",
   "id": "0a38357b",
   "metadata": {},
   "source": [
    "## 导入相关依赖"
   ]
  },
  {
   "cell_type": "code",
   "execution_count": 2,
   "id": "da797745",
   "metadata": {},
   "outputs": [],
   "source": [
    "import os\n",
    "import sys\n",
    "\n",
    "import matplotlib.pyplot as plt\n",
    "from captum.attr import IntegratedGradients\n",
    "from dotenv import load_dotenv\n",
    "\n",
    "load_dotenv()\n",
    "sys.path.append(os.getenv(\"PROJ_PATH\")) # type: ignore\n",
    "\n",
    "from dmg import ModelHandler  # noqa\n",
    "from dmg.core.data.loaders import HydroLoader  # noqa\n",
    "from dmg.core.utils import import_trainer  # noqa\n",
    "from project.better_estimate import load_config  # noqa"
   ]
  }
 ],
 "metadata": {
  "kernelspec": {
   "display_name": "generic_deltamodel",
   "language": "python",
   "name": "python3"
  },
  "language_info": {
   "codemirror_mode": {
    "name": "ipython",
    "version": 3
   },
   "file_extension": ".py",
   "mimetype": "text/x-python",
   "name": "python",
   "nbconvert_exporter": "python",
   "pygments_lexer": "ipython3",
   "version": "3.11.13"
  }
 },
 "nbformat": 4,
 "nbformat_minor": 5
}
